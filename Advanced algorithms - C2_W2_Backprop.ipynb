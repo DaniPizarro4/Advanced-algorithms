{
  "cells": [
    {
      "cell_type": "markdown",
      "metadata": {
        "id": "view-in-github",
        "colab_type": "text"
      },
      "source": [
        "<a href=\"https://colab.research.google.com/github/DaniPizarro4/Advanced-algorithms/blob/main/Advanced%20algorithms%20-%20C2_W2_Backprop.ipynb\" target=\"_parent\"><img src=\"https://colab.research.google.com/assets/colab-badge.svg\" alt=\"Open In Colab\"/></a>"
      ]
    },
    {
      "cell_type": "markdown",
      "metadata": {
        "id": "pq51O8U88-Ff"
      },
      "source": [
        "# Optional Lab: Back propagation using a computation graph\n",
        "Working through this lab will give you insight into a key algorithm used by most machine learning frameworks. Gradient descent requires the derivative of the cost with respect to each parameter in the network.  Neural networks can have millions or even billions of parameters. The *back propagation* algorithm is used to compute those derivatives. *Computation graphs* are used to simplify the operation. Let's dig into this below."
      ],
      "id": "pq51O8U88-Ff"
    },
    {
      "cell_type": "code",
      "execution_count": null,
      "metadata": {
        "id": "ZwrPEKe38-Fg"
      },
      "outputs": [],
      "source": [
        "from sympy import *\n",
        "import numpy as np\n",
        "import re\n",
        "%matplotlib widget\n",
        "import matplotlib.pyplot as plt\n",
        "from matplotlib.widgets import TextBox\n",
        "from matplotlib.widgets import Button\n",
        "import ipywidgets as widgets\n",
        "from lab_utils_backprop import *"
      ],
      "id": "ZwrPEKe38-Fg"
    },
    {
      "cell_type": "markdown",
      "metadata": {
        "id": "QNwcPMkN8-Fh"
      },
      "source": [
        "## Computation Graph\n",
        "A computation graph simplifies the computation of complex derivatives by breaking them into smaller steps. Let's see how this works.\n",
        "\n",
        "Let's calculate the derivative of this slightly complex expression, $J = (2+3w)^2$. We would like to find the derivative of $J$ with respect to $w$ or $\\frac{\\partial J}{\\partial w}$."
      ],
      "id": "QNwcPMkN8-Fh"
    },
    {
      "cell_type": "code",
      "execution_count": null,
      "metadata": {
        "colab": {
          "referenced_widgets": [
            "c7f922aa7a844ecab9a1b942bd48538b"
          ]
        },
        "id": "Ma1dOsbn8-Fh",
        "outputId": "deb4226e-96a3-477b-9f25-1004e28e8acb"
      },
      "outputs": [
        {
          "data": {
            "application/vnd.jupyter.widget-view+json": {
              "model_id": "c7f922aa7a844ecab9a1b942bd48538b",
              "version_major": 2,
              "version_minor": 0
            },
            "text/plain": [
              "Canvas(toolbar=Toolbar(toolitems=[('Home', 'Reset original view', 'home', 'home'), ('Back', 'Back to previous …"
            ]
          },
          "metadata": {},
          "output_type": "display_data"
        },
        {
          "data": {
            "text/plain": [
              "<lab_utils_backprop.plt_network at 0x7610b46b8190>"
            ]
          },
          "execution_count": 2,
          "metadata": {},
          "output_type": "execute_result"
        }
      ],
      "source": [
        "plt.close(\"all\")\n",
        "plt_network(config_nw0, \"./images/C2_W2_BP_network0.PNG\")"
      ],
      "id": "Ma1dOsbn8-Fh"
    },
    {
      "cell_type": "markdown",
      "metadata": {
        "id": "VQ8p7xpn8-Fi"
      },
      "source": [
        "### Forward Propagation   \n"
      ],
      "id": "VQ8p7xpn8-Fi"
    },
    {
      "cell_type": "code",
      "execution_count": null,
      "metadata": {
        "id": "R76OHoTj8-Fi",
        "outputId": "43a8ba62-d9d6-42cd-890a-f561669a161b"
      },
      "outputs": [
        {
          "name": "stdout",
          "output_type": "stream",
          "text": [
            "a = 11, J = 121\n"
          ]
        }
      ],
      "source": [
        "w = 3\n",
        "a = 2+3*w\n",
        "J = a**2\n",
        "print(f\"a = {a}, J = {J}\")"
      ],
      "id": "R76OHoTj8-Fi"
    },
    {
      "cell_type": "markdown",
      "metadata": {
        "tags": [],
        "id": "TfkrINzb8-Fj"
      },
      "source": [
        "### Backprop\n",
        "<img align=\"left\" src=\"./images/C2_W2_BP_network0_j.PNG\"     style=\" width:100px; padding: 10px 20px; \" > Backprop is the algorithm we use to calculate derivatives. As described in the lectures, backprop starts at the right and moves to the left. The first node to consider is $J = a^2 $ and the first step is to find $\\frac{\\partial J}{\\partial a}$\n"
      ],
      "id": "TfkrINzb8-Fj"
    },
    {
      "cell_type": "markdown",
      "metadata": {
        "id": "UYPVmAxN8-Fj"
      },
      "source": [
        "### $\\frac{\\partial J}{\\partial a}$\n",
        "#### Arithmetically\n",
        "Find $\\frac{\\partial J}{\\partial a}$ by finding how $J$ changes as a result of a little change in $a$. This is described in detail in the derivatives optional lab."
      ],
      "id": "UYPVmAxN8-Fj"
    },
    {
      "cell_type": "code",
      "execution_count": null,
      "metadata": {
        "id": "1s_X5hHK8-Fj",
        "outputId": "61a00e64-095f-446a-a4ee-a3dc7664c150"
      },
      "outputs": [
        {
          "name": "stdout",
          "output_type": "stream",
          "text": [
            "J = 121, J_epsilon = 121.02200099999999, dJ_da ~= k = 22.000999999988835 \n"
          ]
        }
      ],
      "source": [
        "a_epsilon = a + 0.001       # a epsilon\n",
        "J_epsilon = a_epsilon**2    # J_epsilon\n",
        "k = (J_epsilon - J)/0.001   # difference divided by epsilon\n",
        "print(f\"J = {J}, J_epsilon = {J_epsilon}, dJ_da ~= k = {k} \")"
      ],
      "id": "1s_X5hHK8-Fj"
    },
    {
      "cell_type": "markdown",
      "metadata": {
        "id": "G0vCq53K8-Fk"
      },
      "source": [
        "$\\frac{\\partial J}{\\partial a}$ is 22 which is $2\\times a$. Our result is not exactly $2 \\times a$ because our epsilon value is not infinitesimally small.\n",
        "#### Symbolically\n"
      ],
      "id": "G0vCq53K8-Fk"
    },
    {
      "cell_type": "code",
      "execution_count": null,
      "metadata": {
        "tags": [],
        "id": "VTw3jbp58-Fk",
        "outputId": "a7396d24-c621-4084-b56c-88c1f63e1bf1"
      },
      "outputs": [
        {
          "data": {
            "text/latex": [
              "$\\displaystyle a^{2}$"
            ],
            "text/plain": [
              "a**2"
            ]
          },
          "execution_count": 5,
          "metadata": {},
          "output_type": "execute_result"
        }
      ],
      "source": [
        "sw,sJ,sa = symbols('w,J,a')\n",
        "sJ = sa**2\n",
        "sJ"
      ],
      "id": "VTw3jbp58-Fk"
    },
    {
      "cell_type": "code",
      "execution_count": null,
      "metadata": {
        "tags": [],
        "id": "jrNEzDbo8-Fk",
        "outputId": "251a17e5-411f-4059-a6e5-6aed12436440"
      },
      "outputs": [
        {
          "data": {
            "text/latex": [
              "$\\displaystyle 121$"
            ],
            "text/plain": [
              "121"
            ]
          },
          "execution_count": 6,
          "metadata": {},
          "output_type": "execute_result"
        }
      ],
      "source": [
        "sJ.subs([(sa,a)])"
      ],
      "id": "jrNEzDbo8-Fk"
    },
    {
      "cell_type": "code",
      "execution_count": null,
      "metadata": {
        "id": "HnuFjhqt8-Fk",
        "outputId": "945afd57-38ce-4357-a0c6-f1b75dcd2d8a"
      },
      "outputs": [
        {
          "data": {
            "text/latex": [
              "$\\displaystyle 2 a$"
            ],
            "text/plain": [
              "2*a"
            ]
          },
          "execution_count": 7,
          "metadata": {},
          "output_type": "execute_result"
        }
      ],
      "source": [
        "dJ_da = diff(sJ, sa)\n",
        "dJ_da"
      ],
      "id": "HnuFjhqt8-Fk"
    },
    {
      "cell_type": "markdown",
      "metadata": {
        "id": "JkmuXve98-Fk"
      },
      "source": [
        "So, $\\frac{\\partial J}{\\partial a} = 2a$. When $a=11$, $\\frac{\\partial J}{\\partial a} = 22$. This matches our arithmetic calculation above.\n",
        "If you have not already done so, you can go back to the diagram above and fill in the value for $\\frac{\\partial J}{\\partial a}$."
      ],
      "id": "JkmuXve98-Fk"
    },
    {
      "cell_type": "markdown",
      "metadata": {
        "tags": [],
        "id": "xpxXlGTK8-Fk"
      },
      "source": [
        "### $\\frac{\\partial J}{\\partial w}$\n",
        "<img align=\"left\" src=\"./images/C2_W2_BP_network0_a.PNG\"     style=\" width:100px; padding: 10px 20px; \" >  Moving from right to left, the next value we would like to compute is $\\frac{\\partial J}{\\partial w}$. To do this, we first need to calculate $\\frac{\\partial a}{\\partial w}$ which describes how the output of this node, $a$, changes when the input $w$ changes a little bit."
      ],
      "id": "xpxXlGTK8-Fk"
    },
    {
      "cell_type": "markdown",
      "metadata": {
        "id": "KK2l5iF_8-Fl"
      },
      "source": [
        "#### Arithmetically\n",
        "Find $\\frac{\\partial a}{\\partial w}$ by finding how $a$ changes as a result of a little change in $w$."
      ],
      "id": "KK2l5iF_8-Fl"
    },
    {
      "cell_type": "code",
      "execution_count": null,
      "metadata": {
        "id": "qSVS7D2o8-Fl",
        "outputId": "1155dcae-f6be-4786-c4cb-b44b9aa8ffd4"
      },
      "outputs": [
        {
          "name": "stdout",
          "output_type": "stream",
          "text": [
            "a = 11, a_epsilon = 11.003, da_dw ~= k = 3.0000000000001137 \n"
          ]
        }
      ],
      "source": [
        "w_epsilon = w + 0.001       # a  plus a small value, epsilon\n",
        "a_epsilon = 2 + 3*w_epsilon\n",
        "k = (a_epsilon - a)/0.001   # difference divided by epsilon\n",
        "print(f\"a = {a}, a_epsilon = {a_epsilon}, da_dw ~= k = {k} \")"
      ],
      "id": "qSVS7D2o8-Fl"
    },
    {
      "cell_type": "markdown",
      "metadata": {
        "id": "2wTQQCgi8-Fl"
      },
      "source": [
        "Calculated arithmetically,  $\\frac{\\partial a}{\\partial w} \\approx 3$. Let's try it with SymPy."
      ],
      "id": "2wTQQCgi8-Fl"
    },
    {
      "cell_type": "code",
      "execution_count": null,
      "metadata": {
        "tags": [],
        "id": "zH-uVNYQ8-Fl",
        "outputId": "a04dc76b-bb55-49d8-d916-e4a9575f6a4a"
      },
      "outputs": [
        {
          "data": {
            "text/latex": [
              "$\\displaystyle 3 w + 2$"
            ],
            "text/plain": [
              "3*w + 2"
            ]
          },
          "execution_count": 9,
          "metadata": {},
          "output_type": "execute_result"
        }
      ],
      "source": [
        "sa = 2 + 3*sw\n",
        "sa"
      ],
      "id": "zH-uVNYQ8-Fl"
    },
    {
      "cell_type": "code",
      "execution_count": null,
      "metadata": {
        "id": "A4yH4Cxx8-Fl",
        "outputId": "b48d6f81-c188-4931-eb28-1a86b9009bbe"
      },
      "outputs": [
        {
          "data": {
            "text/latex": [
              "$\\displaystyle 3$"
            ],
            "text/plain": [
              "3"
            ]
          },
          "execution_count": 10,
          "metadata": {},
          "output_type": "execute_result"
        }
      ],
      "source": [
        "da_dw = diff(sa,sw)\n",
        "da_dw"
      ],
      "id": "A4yH4Cxx8-Fl"
    },
    {
      "cell_type": "markdown",
      "metadata": {
        "id": "GrDEHTDv8-Fl"
      },
      "source": [
        ">The next step is the interesting part:\n",
        "> - We know that a small change in $w$ will cause $a$ to change by 3 times that amount.\n",
        "> - We know that a small change in $a$ will cause $J$ to change by $2\\times a$ times that amount. (a=11 in this example)    \n",
        " so, putting these together,\n",
        "> - We  know that a small change in $w$ will cause $J$ to change by $3 \\times 2\\times a$ times that amount.\n",
        ">\n",
        "> These cascading changes go by the name of *the chain rule*.  It can be written like this:\n",
        " $$\\frac{\\partial J}{\\partial w} = \\frac{\\partial a}{\\partial w} \\frac{\\partial J}{\\partial a} $$\n",
        "\n",
        "It's worth spending some time thinking this through if it is not clear. This is a key take-away.\n",
        "\n",
        " Let's try calculating it:\n",
        ""
      ],
      "id": "GrDEHTDv8-Fl"
    },
    {
      "cell_type": "code",
      "execution_count": null,
      "metadata": {
        "id": "vDg55QrH8-Fm",
        "outputId": "efe9e866-4707-4ba6-d157-22f3f9484515"
      },
      "outputs": [
        {
          "data": {
            "text/latex": [
              "$\\displaystyle 6 a$"
            ],
            "text/plain": [
              "6*a"
            ]
          },
          "execution_count": 11,
          "metadata": {},
          "output_type": "execute_result"
        }
      ],
      "source": [
        "dJ_dw = da_dw * dJ_da\n",
        "dJ_dw"
      ],
      "id": "vDg55QrH8-Fm"
    },
    {
      "cell_type": "markdown",
      "metadata": {
        "id": "E6JFRAA68-Fm"
      },
      "source": [
        "And $a$ is 11 in this example so $\\frac{\\partial J}{\\partial w} = 66$. We can check this arithmetically:"
      ],
      "id": "E6JFRAA68-Fm"
    },
    {
      "cell_type": "code",
      "execution_count": null,
      "metadata": {
        "id": "dCFnG-iI8-Fm",
        "outputId": "8876cf10-9bee-4e14-bf29-f8445927be58"
      },
      "outputs": [
        {
          "name": "stdout",
          "output_type": "stream",
          "text": [
            "J = 121, J_epsilon = 121.06600900000001, dJ_dw ~= k = 66.0090000000082 \n"
          ]
        }
      ],
      "source": [
        "w_epsilon = w + 0.001\n",
        "a_epsilon = 2 + 3*w_epsilon\n",
        "J_epsilon = a_epsilon**2\n",
        "k = (J_epsilon - J)/0.001   # difference divided by epsilon\n",
        "print(f\"J = {J}, J_epsilon = {J_epsilon}, dJ_dw ~= k = {k} \")"
      ],
      "id": "dCFnG-iI8-Fm"
    },
    {
      "cell_type": "markdown",
      "metadata": {
        "id": "K9nZRCH98-Fm"
      },
      "source": [
        "OK! You can now fill the values for  $\\frac{\\partial a}{\\partial w}$ and $\\frac{\\partial J}{\\partial w}$ in  the diagram if you have not already done so."
      ],
      "id": "K9nZRCH98-Fm"
    },
    {
      "cell_type": "markdown",
      "metadata": {
        "id": "SU-MOLFi8-Fm"
      },
      "source": [
        "**Another view**  \n",
        "One could visualize these cascading changes this way:\n",
        "A small change in $w$ is multiplied by $\\frac{\\partial a}{\\partial w}$ resulting in a change that is 3 times as large. This larger change is then multiplied by $\\frac{\\partial J}{\\partial a}$ resulting in a change that is now $3 \\times 22 = 66$ times larger."
      ],
      "id": "SU-MOLFi8-Fm"
    },
    {
      "cell_type": "markdown",
      "metadata": {
        "id": "uc2inkfl8-Fm"
      },
      "source": [
        "## Computation Graph of a Simple Neural Network\n",
        "Below is a graph of the neural network used in the lecture with different values. Try and fill in the values in the boxes. Note, the interactive graphic is not particularly robust. If you run into trouble with the interface, run the cell below again to restart."
      ],
      "id": "uc2inkfl8-Fm"
    },
    {
      "cell_type": "code",
      "execution_count": null,
      "metadata": {
        "colab": {
          "referenced_widgets": [
            "a09b7031aef94e80af95b7b4cc7965b0"
          ]
        },
        "id": "x_yv0AO18-Fm",
        "outputId": "f794244c-b009-4be8-f452-ab0b11eed751"
      },
      "outputs": [
        {
          "data": {
            "application/vnd.jupyter.widget-view+json": {
              "model_id": "a09b7031aef94e80af95b7b4cc7965b0",
              "version_major": 2,
              "version_minor": 0
            },
            "text/plain": [
              "Canvas(toolbar=Toolbar(toolitems=[('Home', 'Reset original view', 'home', 'home'), ('Back', 'Back to previous …"
            ]
          },
          "metadata": {},
          "output_type": "display_data"
        },
        {
          "data": {
            "text/plain": [
              "<lab_utils_backprop.plt_network at 0x761094426a90>"
            ]
          },
          "execution_count": 13,
          "metadata": {},
          "output_type": "execute_result"
        }
      ],
      "source": [
        "plt.close(\"all\")\n",
        "plt_network(config_nw1, \"./images/C2_W2_BP_network1.PNG\")"
      ],
      "id": "x_yv0AO18-Fm"
    },
    {
      "cell_type": "markdown",
      "metadata": {
        "id": "sosJeRqn8-Fm"
      },
      "source": [
        "Below, we will go through the computations required to fill in the above computation graph in detail. We start with the forward path."
      ],
      "id": "sosJeRqn8-Fm"
    },
    {
      "cell_type": "markdown",
      "metadata": {
        "id": "MOSOB5Dj8-Fm"
      },
      "source": [
        "### Forward propagation\n",
        "The calculations in the forward path are the ones you have recently learned for neural networks. You can compare the values below to those you calculated for the diagram above."
      ],
      "id": "MOSOB5Dj8-Fm"
    },
    {
      "cell_type": "code",
      "execution_count": null,
      "metadata": {
        "id": "EceL6xqg8-Fn",
        "outputId": "8ea1dcea-91c9-4a11-db7f-e7cbb473f09d"
      },
      "outputs": [
        {
          "name": "stdout",
          "output_type": "stream",
          "text": [
            "J=4.5, d=3, a=4, c=-4\n"
          ]
        }
      ],
      "source": [
        "# Inputs and parameters\n",
        "x = 2\n",
        "w = -2\n",
        "b = 8\n",
        "y = 1\n",
        "# calculate per step values\n",
        "c = w * x\n",
        "a = c + b\n",
        "d = a - y\n",
        "J = d**2/2\n",
        "print(f\"J={J}, d={d}, a={a}, c={c}\")"
      ],
      "id": "EceL6xqg8-Fn"
    },
    {
      "cell_type": "markdown",
      "metadata": {
        "id": "sudGRtSG8-Fn"
      },
      "source": [
        "### Backward propagation (Backprop)\n",
        "<img align=\"left\" src=\"./images/C2_W2_BP_network1_jdsq.PNG\"     style=\" width:100px; padding: 10px 20px; \" > As described in the lectures, backprop starts at the right and moves to the left. The first node to consider is $J = \\frac{1}{2}d^2 $ and the first step is to find $\\frac{\\partial J}{\\partial d}$\n"
      ],
      "id": "sudGRtSG8-Fn"
    },
    {
      "cell_type": "markdown",
      "metadata": {
        "tags": [],
        "id": "7EiyOkj18-Fn"
      },
      "source": [
        "### $\\frac{\\partial J}{\\partial d}$"
      ],
      "id": "7EiyOkj18-Fn"
    },
    {
      "cell_type": "markdown",
      "metadata": {
        "id": "ZZegsJ1X8-Fn"
      },
      "source": [
        "#### Arithmetically\n",
        "Find $\\frac{\\partial J}{\\partial d}$ by finding how $J$ changes as a result of a little change in $d$."
      ],
      "id": "ZZegsJ1X8-Fn"
    },
    {
      "cell_type": "code",
      "execution_count": null,
      "metadata": {
        "id": "XDbHc1xo8-Fn",
        "outputId": "2bfba36f-f2cd-4a3c-ebb6-09edc4fad009"
      },
      "outputs": [
        {
          "name": "stdout",
          "output_type": "stream",
          "text": [
            "J = 4.5, J_epsilon = 4.5030005, dJ_dd ~= k = 3.0004999999997395 \n"
          ]
        }
      ],
      "source": [
        "d_epsilon = d + 0.001\n",
        "J_epsilon = d_epsilon**2/2\n",
        "k = (J_epsilon - J)/0.001   # difference divided by epsilon\n",
        "print(f\"J = {J}, J_epsilon = {J_epsilon}, dJ_dd ~= k = {k} \")"
      ],
      "id": "XDbHc1xo8-Fn"
    },
    {
      "cell_type": "markdown",
      "metadata": {
        "id": "Uv7qNEpg8-Fn"
      },
      "source": [
        "$\\frac{\\partial J}{\\partial d}$ is 3, which is the value of $d$. Our result is not exactly $d$ because our epsilon value is not infinitesimally small.\n",
        "#### Symbolically\n",
        "Now, let's use SymPy to calculate derivatives symbolically, as we did in the derivatives optional lab. We will prefix the name of the variable with an 's' to indicate this is a *symbolic* variable."
      ],
      "id": "Uv7qNEpg8-Fn"
    },
    {
      "cell_type": "code",
      "execution_count": null,
      "metadata": {
        "tags": [],
        "id": "HRpby24m8-Fn",
        "outputId": "f6b2c8ce-74e7-4c15-96d0-dae4a03f2682"
      },
      "outputs": [
        {
          "data": {
            "text/latex": [
              "$\\displaystyle \\frac{d^{2}}{2}$"
            ],
            "text/plain": [
              "d**2/2"
            ]
          },
          "execution_count": 16,
          "metadata": {},
          "output_type": "execute_result"
        }
      ],
      "source": [
        "sx,sw,sb,sy,sJ = symbols('x,w,b,y,J')\n",
        "sa, sc, sd = symbols('a,c,d')\n",
        "sJ = sd**2/2\n",
        "sJ"
      ],
      "id": "HRpby24m8-Fn"
    },
    {
      "cell_type": "code",
      "execution_count": null,
      "metadata": {
        "tags": [],
        "id": "NgProPam8-Fn",
        "outputId": "812a3f1b-a1c1-4a7d-8f39-21e4e0986fa9"
      },
      "outputs": [
        {
          "data": {
            "text/latex": [
              "$\\displaystyle \\frac{9}{2}$"
            ],
            "text/plain": [
              "9/2"
            ]
          },
          "execution_count": 17,
          "metadata": {},
          "output_type": "execute_result"
        }
      ],
      "source": [
        "sJ.subs([(sd,d)])"
      ],
      "id": "NgProPam8-Fn"
    },
    {
      "cell_type": "code",
      "execution_count": null,
      "metadata": {
        "id": "dtLwOlea8-Fu",
        "outputId": "e491f758-f0ea-4557-b556-7f44ca78969d"
      },
      "outputs": [
        {
          "data": {
            "text/latex": [
              "$\\displaystyle d$"
            ],
            "text/plain": [
              "d"
            ]
          },
          "execution_count": 18,
          "metadata": {},
          "output_type": "execute_result"
        }
      ],
      "source": [
        "dJ_dd = diff(sJ, sd)\n",
        "dJ_dd"
      ],
      "id": "dtLwOlea8-Fu"
    },
    {
      "cell_type": "markdown",
      "metadata": {
        "id": "up1tPmxO8-Fu"
      },
      "source": [
        "So, $\\frac{\\partial J}{\\partial d}$ = d. When $d=3$, $\\frac{\\partial J}{\\partial d}$ = 3. This matches our arithmetic calculation above.\n",
        "If you have not already done so, you can go back to the diagram above and fill in the value for $\\frac{\\partial J}{\\partial d}$."
      ],
      "id": "up1tPmxO8-Fu"
    },
    {
      "cell_type": "markdown",
      "metadata": {
        "id": "0gYzkK0T8-Fu"
      },
      "source": [
        "### $\\frac{\\partial J}{\\partial a}$\n",
        "<img align=\"left\" src=\"./images/C2_W2_BP_network1_d.PNG\"     style=\" width:100px; padding: 10px 20px; \" >  Moving from right to left, the next value we would like to compute is $\\frac{\\partial J}{\\partial a}$. To do this, we first need to calculate $\\frac{\\partial d}{\\partial a}$ which describes how the output of this node changes when the input $a$ changes a little bit. (Note, we are not interested in how the output changes when $y$ changes since $y$ is not a parameter.)"
      ],
      "id": "0gYzkK0T8-Fu"
    },
    {
      "cell_type": "markdown",
      "metadata": {
        "id": "Yo2pTjyN8-Fu"
      },
      "source": [
        "#### Arithmetically\n",
        "Find $\\frac{\\partial d}{\\partial a}$ by finding how $d$ changes as a result of a little change in $a$."
      ],
      "id": "Yo2pTjyN8-Fu"
    },
    {
      "cell_type": "code",
      "execution_count": null,
      "metadata": {
        "id": "XyenLbaY8-Fv",
        "outputId": "452c2518-66b2-41ee-8617-f0d727287647"
      },
      "outputs": [
        {
          "name": "stdout",
          "output_type": "stream",
          "text": [
            "d = 3, d_epsilon = 3.0010000000000003, dd_da ~= k = 1.000000000000334 \n"
          ]
        }
      ],
      "source": [
        "a_epsilon = a + 0.001         # a  plus a small value\n",
        "d_epsilon = a_epsilon - y\n",
        "k = (d_epsilon - d)/0.001   # difference divided by epsilon\n",
        "print(f\"d = {d}, d_epsilon = {d_epsilon}, dd_da ~= k = {k} \")"
      ],
      "id": "XyenLbaY8-Fv"
    },
    {
      "cell_type": "markdown",
      "metadata": {
        "id": "TxBrCnJ28-Fv"
      },
      "source": [
        "Calculated arithmetically,  $\\frac{\\partial d}{\\partial a} \\approx 1$. Let's try it with SymPy.\n",
        "#### Symbolically"
      ],
      "id": "TxBrCnJ28-Fv"
    },
    {
      "cell_type": "code",
      "execution_count": null,
      "metadata": {
        "tags": [],
        "id": "aMt1JKDD8-Fv",
        "outputId": "c50301c8-e23d-4e61-a29d-43e684072478"
      },
      "outputs": [
        {
          "data": {
            "text/latex": [
              "$\\displaystyle a - y$"
            ],
            "text/plain": [
              "a - y"
            ]
          },
          "execution_count": 20,
          "metadata": {},
          "output_type": "execute_result"
        }
      ],
      "source": [
        "sd = sa - sy\n",
        "sd"
      ],
      "id": "aMt1JKDD8-Fv"
    },
    {
      "cell_type": "code",
      "execution_count": null,
      "metadata": {
        "id": "tWUE7Cqg8-Fv",
        "outputId": "95d68229-9aa8-4352-9a02-301f5eda38c3"
      },
      "outputs": [
        {
          "data": {
            "text/latex": [
              "$\\displaystyle 1$"
            ],
            "text/plain": [
              "1"
            ]
          },
          "execution_count": 21,
          "metadata": {},
          "output_type": "execute_result"
        }
      ],
      "source": [
        "dd_da = diff(sd,sa)\n",
        "dd_da"
      ],
      "id": "tWUE7Cqg8-Fv"
    },
    {
      "cell_type": "markdown",
      "metadata": {
        "id": "4H9XqdrU8-Fv"
      },
      "source": [
        "Calculated arithmetically,  $\\frac{\\partial d}{\\partial a}$ also equals 1.  \n",
        ">The next step is the interesting part, repeated again in this example:\n",
        "> - We know that a small change in $a$ will cause $d$ to change by 1 times that amount.\n",
        "> - We know that a small change in $d$ will cause $J$ to change by $d$ times that amount. (d=3 in this example)    \n",
        " so, putting these together,\n",
        "> - We  know that a small change in $a$ will cause $J$ to change by $1\\times d$ times that amount.\n",
        ">\n",
        ">This is again *the chain rule*.  It can be written like this:\n",
        " $$\\frac{\\partial J}{\\partial a} = \\frac{\\partial d}{\\partial a} \\frac{\\partial J}{\\partial d} $$\n",
        "\n",
        " Let's try calculating it:\n",
        ""
      ],
      "id": "4H9XqdrU8-Fv"
    },
    {
      "cell_type": "code",
      "execution_count": null,
      "metadata": {
        "id": "mlcBwvDA8-Fv",
        "outputId": "517735ec-313d-4cbf-d326-5be1d6eb1912"
      },
      "outputs": [
        {
          "data": {
            "text/latex": [
              "$\\displaystyle d$"
            ],
            "text/plain": [
              "d"
            ]
          },
          "execution_count": 22,
          "metadata": {},
          "output_type": "execute_result"
        }
      ],
      "source": [
        "dJ_da = dd_da * dJ_dd\n",
        "dJ_da"
      ],
      "id": "mlcBwvDA8-Fv"
    },
    {
      "cell_type": "markdown",
      "metadata": {
        "id": "GH9CUUKk8-Fv"
      },
      "source": [
        "And $d$ is 3 in this example so $\\frac{\\partial J}{\\partial a} = 3$. We can check this arithmetically:"
      ],
      "id": "GH9CUUKk8-Fv"
    },
    {
      "cell_type": "code",
      "execution_count": null,
      "metadata": {
        "id": "-LVxedSX8-Fv",
        "outputId": "fceaeb3b-e875-4ae6-ca6f-b08e2c18aec4"
      },
      "outputs": [
        {
          "name": "stdout",
          "output_type": "stream",
          "text": [
            "J = 4.5, J_epsilon = 4.503000500000001, dJ_da ~= k = 3.0005000000006277 \n"
          ]
        }
      ],
      "source": [
        "a_epsilon = a + 0.001\n",
        "d_epsilon = a_epsilon - y\n",
        "J_epsilon = d_epsilon**2/2\n",
        "k = (J_epsilon - J)/0.001\n",
        "print(f\"J = {J}, J_epsilon = {J_epsilon}, dJ_da ~= k = {k} \")"
      ],
      "id": "-LVxedSX8-Fv"
    },
    {
      "cell_type": "markdown",
      "metadata": {
        "id": "btYaeHwc8-Fw"
      },
      "source": [
        "OK, they match! You can now fill the values for  $\\frac{\\partial d}{\\partial a}$ and $\\frac{\\partial J}{\\partial a}$ in the diagram if you have not already done so."
      ],
      "id": "btYaeHwc8-Fw"
    },
    {
      "cell_type": "markdown",
      "metadata": {
        "tags": [],
        "id": "WTcizEhx8-Fw"
      },
      "source": [
        "### $\\frac{\\partial J}{\\partial c}$,  $\\frac{\\partial J}{\\partial b}$\n",
        "<img align=\"left\" src=\"./images/C2_W2_BP_network1_a.PNG\"     style=\" width:100px; padding: 10px 20px; \" >The next node has two derivatives of interest. We need to calculate  $\\frac{\\partial J}{\\partial c}$ so we can propagate to the left. We also want to calculate   $\\frac{\\partial J}{\\partial b}$. Finding the derivative of the cost with respect to the parameters $w$ and $b$ is the object of backprop. We will find the local derivatives,  $\\frac{\\partial a}{\\partial c}$ and  $\\frac{\\partial a}{\\partial b}$ first and then combine those with the derivative coming from the right, $\\frac{\\partial J}{\\partial a}$."
      ],
      "id": "WTcizEhx8-Fw"
    },
    {
      "cell_type": "code",
      "execution_count": null,
      "metadata": {
        "id": "aN47Xqce8-Fw",
        "outputId": "0adde10d-2d35-443f-b571-e50017f6d028"
      },
      "outputs": [
        {
          "data": {
            "text/latex": [
              "$\\displaystyle b + c$"
            ],
            "text/plain": [
              "b + c"
            ]
          },
          "execution_count": 24,
          "metadata": {},
          "output_type": "execute_result"
        }
      ],
      "source": [
        "# calculate the local derivatives da_dc, da_db\n",
        "sa = sc + sb\n",
        "sa"
      ],
      "id": "aN47Xqce8-Fw"
    },
    {
      "cell_type": "code",
      "execution_count": null,
      "metadata": {
        "id": "MPImNO0S8-Fw",
        "outputId": "21a04c4a-f459-46c5-83b2-eaddc5b94671"
      },
      "outputs": [
        {
          "name": "stdout",
          "output_type": "stream",
          "text": [
            "1 1\n"
          ]
        }
      ],
      "source": [
        "da_dc = diff(sa,sc)\n",
        "da_db = diff(sa,sb)\n",
        "print(da_dc, da_db)"
      ],
      "id": "MPImNO0S8-Fw"
    },
    {
      "cell_type": "code",
      "execution_count": null,
      "metadata": {
        "id": "bBZX7ilN8-Fw",
        "outputId": "897b4d3d-39c6-4e26-b5ce-453bbc64ff1a"
      },
      "outputs": [
        {
          "name": "stdout",
          "output_type": "stream",
          "text": [
            "dJ_dc = d,  dJ_db = d\n"
          ]
        }
      ],
      "source": [
        "dJ_dc = da_dc * dJ_da\n",
        "dJ_db = da_db * dJ_da\n",
        "print(f\"dJ_dc = {dJ_dc},  dJ_db = {dJ_db}\")"
      ],
      "id": "bBZX7ilN8-Fw"
    },
    {
      "cell_type": "markdown",
      "metadata": {
        "id": "qJFWojit8-Fw"
      },
      "source": [
        "And in our example, d = 3"
      ],
      "id": "qJFWojit8-Fw"
    },
    {
      "cell_type": "markdown",
      "metadata": {
        "tags": [],
        "id": "PhDXrFJd8-Fw"
      },
      "source": [
        "###  $\\frac{\\partial J}{\\partial w}$\n",
        "<img align=\"left\" src=\"./images/C2_W2_BP_network1_c.PNG\"     style=\" width:100px; padding: 10px 20px; \" > The last node in this example calculates `c`. Here, we are interested in how J changes with respect to the parameter w. We will not back propagate to the input $x$, so we are not interested in $\\frac{\\partial J}{\\partial x}$. Let's start by calculating $\\frac{\\partial c}{\\partial w}$."
      ],
      "id": "PhDXrFJd8-Fw"
    },
    {
      "cell_type": "code",
      "execution_count": null,
      "metadata": {
        "id": "HHbwGKKk8-Fw",
        "outputId": "a1d3ccb2-95a6-4aa1-9916-f1994d28a07b"
      },
      "outputs": [
        {
          "data": {
            "text/latex": [
              "$\\displaystyle w x$"
            ],
            "text/plain": [
              "w*x"
            ]
          },
          "execution_count": 27,
          "metadata": {},
          "output_type": "execute_result"
        }
      ],
      "source": [
        "# calculate the local derivative\n",
        "sc = sw * sx\n",
        "sc"
      ],
      "id": "HHbwGKKk8-Fw"
    },
    {
      "cell_type": "code",
      "execution_count": null,
      "metadata": {
        "id": "ozPEqyMi8-Fx",
        "outputId": "802980d3-7680-408d-9a99-2ffb0a5965d9"
      },
      "outputs": [
        {
          "data": {
            "text/latex": [
              "$\\displaystyle x$"
            ],
            "text/plain": [
              "x"
            ]
          },
          "execution_count": 28,
          "metadata": {},
          "output_type": "execute_result"
        }
      ],
      "source": [
        "dc_dw = diff(sc,sw)\n",
        "dc_dw"
      ],
      "id": "ozPEqyMi8-Fx"
    },
    {
      "cell_type": "markdown",
      "metadata": {
        "id": "n8WgfRRV8-Fx"
      },
      "source": [
        "This derivative is a bit more exciting than the last one. This will vary depending on the value of $x$. This is 2 in our example.\n",
        "\n",
        "Combine this with $\\frac{\\partial J}{\\partial c}$ to find $\\frac{\\partial J}{\\partial w}$."
      ],
      "id": "n8WgfRRV8-Fx"
    },
    {
      "cell_type": "code",
      "execution_count": null,
      "metadata": {
        "id": "rcZFWBwJ8-Fx",
        "outputId": "faf73e89-63ec-4ef0-d86d-10477c16e884"
      },
      "outputs": [
        {
          "data": {
            "text/latex": [
              "$\\displaystyle d x$"
            ],
            "text/plain": [
              "d*x"
            ]
          },
          "execution_count": 29,
          "metadata": {},
          "output_type": "execute_result"
        }
      ],
      "source": [
        "dJ_dw = dc_dw * dJ_dc\n",
        "dJ_dw"
      ],
      "id": "rcZFWBwJ8-Fx"
    },
    {
      "cell_type": "code",
      "execution_count": null,
      "metadata": {
        "id": "YlKfYR4z8-Fx",
        "outputId": "24ff4ed5-70d1-4f29-cd64-0fa4cd40db08"
      },
      "outputs": [
        {
          "name": "stdout",
          "output_type": "stream",
          "text": [
            "dJ_dw = 2*d\n"
          ]
        }
      ],
      "source": [
        "print(f\"dJ_dw = {dJ_dw.subs([(sd,d),(sx,x)])}\")"
      ],
      "id": "YlKfYR4z8-Fx"
    },
    {
      "cell_type": "markdown",
      "metadata": {
        "id": "FQgb64Dl8-Fx"
      },
      "source": [
        "$d=3$,  so $\\frac{\\partial J}{\\partial w} = 6$ for our example.   \n",
        "Let's test this arithmetically:"
      ],
      "id": "FQgb64Dl8-Fx"
    },
    {
      "cell_type": "code",
      "execution_count": null,
      "metadata": {
        "id": "4Eu5cHFm8-Fx",
        "outputId": "e7ee64c4-ee09-4f0c-a471-ff180d05139c"
      },
      "outputs": [
        {
          "name": "stdout",
          "output_type": "stream",
          "text": [
            "J = 4.5, J_epsilon = 4.506002, dJ_dw ~= k = 6.001999999999619 \n"
          ]
        }
      ],
      "source": [
        "J_epsilon = ((w+0.001)*x+b - y)**2/2\n",
        "k = (J_epsilon - J)/0.001\n",
        "print(f\"J = {J}, J_epsilon = {J_epsilon}, dJ_dw ~= k = {k} \")"
      ],
      "id": "4Eu5cHFm8-Fx"
    },
    {
      "cell_type": "markdown",
      "metadata": {
        "id": "urhbdgtx8-Fx"
      },
      "source": [
        "They match! Great. You can add $\\frac{\\partial J}{\\partial w}$ to the diagram above and our analysis is complete."
      ],
      "id": "urhbdgtx8-Fx"
    }
  ],
  "metadata": {
    "kernelspec": {
      "display_name": "Python 3",
      "language": "python",
      "name": "python3"
    },
    "language_info": {
      "codemirror_mode": {
        "name": "ipython",
        "version": 3
      },
      "file_extension": ".py",
      "mimetype": "text/x-python",
      "name": "python",
      "nbconvert_exporter": "python",
      "pygments_lexer": "ipython3",
      "version": "3.7.6"
    },
    "colab": {
      "provenance": [],
      "include_colab_link": true
    }
  },
  "nbformat": 4,
  "nbformat_minor": 5
}